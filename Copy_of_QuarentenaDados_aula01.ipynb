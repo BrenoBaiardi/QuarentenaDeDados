{
  "nbformat": 4,
  "nbformat_minor": 0,
  "metadata": {
    "colab": {
      "name": "Copy of QuarentenaDados - aula01",
      "provenance": [],
      "collapsed_sections": [],
      "include_colab_link": true
    },
    "kernelspec": {
      "name": "python3",
      "display_name": "Python 3"
    }
  },
  "cells": [
    {
      "cell_type": "markdown",
      "metadata": {
        "id": "view-in-github",
        "colab_type": "text"
      },
      "source": [
        "<a href=\"https://colab.research.google.com/github/BrenoBaiardi/QuarentenaDeDados/blob/master/Copy_of_QuarentenaDados_aula01.ipynb\" target=\"_parent\"><img src=\"https://colab.research.google.com/assets/colab-badge.svg\" alt=\"Open In Colab\"/></a>"
      ]
    },
    {
      "cell_type": "markdown",
      "metadata": {
        "id": "sG6vp0eCNdi2",
        "colab_type": "text"
      },
      "source": [
        "#Aula 01"
      ]
    },
    {
      "cell_type": "markdown",
      "metadata": {
        "id": "f7ibSyNTXtv9",
        "colab_type": "text"
      },
      "source": [
        "## Introdução\n",
        "\n",
        "Olá seja bem-vinda ou bem-vindo ao **notebook da aula01**, nesta aula vamos realizar nossa primeira análise de dados e no final já seremos capazes de tirar algumas conclusões.\n",
        "\n",
        "Nós estaremos desenvolvendo nosso projeto aqui no google colaboratory, assim podemos mesclar células contendo textos em formato markdown e células de código, além disso você não precisar instalar nada na sua máquina. Então que tal começar testando algumas linhas de código.\n",
        "\n",
        "Nesta primeira célula estamos realizando um ```print()```, lembre-se que esta função python imprime a string que estamos passando como parâmetro, então  o retorno é exibido logo abaixo da célula com código."
      ]
    },
    {
      "cell_type": "code",
      "metadata": {
        "id": "vC0a5z7IRFWT",
        "colab_type": "code",
        "outputId": "121f9030-fa94-4719-d857-1a21e31c391e",
        "colab": {
          "base_uri": "https://localhost:8080/",
          "height": 54
        }
      },
      "source": [
        "print(\"Guilherme Silveira\")\n",
        "print(\"Paulo Silveira\")"
      ],
      "execution_count": 0,
      "outputs": [
        {
          "output_type": "stream",
          "text": [
            "Guilherme Silveira\n",
            "Paulo Silveira\n"
          ],
          "name": "stdout"
        }
      ]
    },
    {
      "cell_type": "markdown",
      "metadata": {
        "id": "R2uQtgGLlaDs",
        "colab_type": "text"
      },
      "source": [
        "Agora vamos analisar a proxima célula de código. \n",
        "\n",
        "Aqui estamos fazendo uma atribuição de variável, conforme dito em aula, as atribuições não tem retorno, assim, diferente da célula anterior não temos um *output* logo abaixo do código."
      ]
    },
    {
      "cell_type": "code",
      "metadata": {
        "id": "i9-JUfxERKcN",
        "colab_type": "code",
        "colab": {}
      },
      "source": [
        "nome_do_filme = \"Totoro, o filme\""
      ],
      "execution_count": 0,
      "outputs": []
    },
    {
      "cell_type": "markdown",
      "metadata": {
        "id": "gQi3djrZmwZ8",
        "colab_type": "text"
      },
      "source": [
        "Agora que criamos a variável ```nome_do_filme```, podemos reutilizá-la, por exemplo na função ```print```, para assim imprimir a *string* \"Totoro, o filme\"."
      ]
    },
    {
      "cell_type": "code",
      "metadata": {
        "id": "3aFMfB0ERUcF",
        "colab_type": "code",
        "outputId": "4558e3e2-5476-4f62-d4d8-2326b07e8d9c",
        "colab": {
          "base_uri": "https://localhost:8080/",
          "height": 36
        }
      },
      "source": [
        "print(nome_do_filme)"
      ],
      "execution_count": 0,
      "outputs": [
        {
          "output_type": "stream",
          "text": [
            "Totoro, o filme\n"
          ],
          "name": "stdout"
        }
      ]
    },
    {
      "cell_type": "code",
      "metadata": {
        "id": "Sg2NRrX9RXM-",
        "colab_type": "code",
        "outputId": "84e5cd86-5eed-461f-f57e-34b674369f05",
        "colab": {
          "base_uri": "https://localhost:8080/",
          "height": 36
        }
      },
      "source": [
        "nome_do_filme"
      ],
      "execution_count": 0,
      "outputs": [
        {
          "output_type": "execute_result",
          "data": {
            "text/plain": [
              "'Totoro, o filme'"
            ]
          },
          "metadata": {
            "tags": []
          },
          "execution_count": 284
        }
      ]
    },
    {
      "cell_type": "markdown",
      "metadata": {
        "id": "OuYA1aSIX0vJ",
        "colab_type": "text"
      },
      "source": [
        "## Lendo os dados do MovieLens\n",
        "\n",
        "Nosso primeiro passo foi conhecer e realizar um \"hello-world\" no colab, agora chegou a hora de importar os dados para o notebook e começar as análises.\n",
        "\n",
        "Vamos importar a biblioteca [pandas](https://pandas.pydata.org/), um poderoso projeto open source para análise de manipulação de dados. O primeiro passo é ler uma base de dados e podemos fazer isso com o comando ```pd.read_csv()```.\n",
        "\n",
        "Estamos lendo um arquivo **CSV** (Comma-separated values), neste tipo de arquivo os valores são separados por vírgulas e podem ser abertos em outras ferramentas como excel e google-sheet. CSV não é o único formato lido pelo pandas, temos o ```pd.read_excel()``` que lê arquivos **xlsx** entre diversos outros formatos, você pode encontrar mais informações na seção de [input/output da documentação](https://pandas.pydata.org/pandas-docs/stable/reference/io.html).\n",
        "\n",
        "Depois de ler o dataset, nós trocamos os nomes das colunas pelos termos em português, logo em seguida utilizamos o método ```filmes.head()``` para visualizar as primeiras 5 linhas do nosso dataframe. Outra forma de visualizar as informações dos dados é utilizando o método ```filmes.sample()```, se você tentar, vai verificar que ele retorna uma linha aleatória do seus dados. Para escolher aleatoriamente mais de 1 linha, por exemplo 5, é só passar esse valor desejado como parâmetro (```filmes.sample(5)```). "
      ]
    },
    {
      "cell_type": "code",
      "metadata": {
        "id": "fm9UvpjdRZjP",
        "colab_type": "code",
        "colab": {}
      },
      "source": [
        "import pandas as pd"
      ],
      "execution_count": 0,
      "outputs": []
    },
    {
      "cell_type": "code",
      "metadata": {
        "id": "uIoEtYpDUSbk",
        "colab_type": "code",
        "outputId": "e8ed01dc-bf25-4aa1-e239-10d6837c72ab",
        "colab": {
          "base_uri": "https://localhost:8080/",
          "height": 206
        }
      },
      "source": [
        "filmes = pd.read_csv(\"https://raw.githubusercontent.com/alura-cursos/introducao-a-data-science/master/aula0/ml-latest-small/movies.csv\")\n",
        "# filmes é um DataFrame\n",
        "filmes.columns = [\"filmeId\", \"titulo\", \"generos\"]\n",
        "filmes.head()"
      ],
      "execution_count": 0,
      "outputs": [
        {
          "output_type": "execute_result",
          "data": {
            "text/html": [
              "<div>\n",
              "<style scoped>\n",
              "    .dataframe tbody tr th:only-of-type {\n",
              "        vertical-align: middle;\n",
              "    }\n",
              "\n",
              "    .dataframe tbody tr th {\n",
              "        vertical-align: top;\n",
              "    }\n",
              "\n",
              "    .dataframe thead th {\n",
              "        text-align: right;\n",
              "    }\n",
              "</style>\n",
              "<table border=\"1\" class=\"dataframe\">\n",
              "  <thead>\n",
              "    <tr style=\"text-align: right;\">\n",
              "      <th></th>\n",
              "      <th>filmeId</th>\n",
              "      <th>titulo</th>\n",
              "      <th>generos</th>\n",
              "    </tr>\n",
              "  </thead>\n",
              "  <tbody>\n",
              "    <tr>\n",
              "      <th>0</th>\n",
              "      <td>1</td>\n",
              "      <td>Toy Story (1995)</td>\n",
              "      <td>Adventure|Animation|Children|Comedy|Fantasy</td>\n",
              "    </tr>\n",
              "    <tr>\n",
              "      <th>1</th>\n",
              "      <td>2</td>\n",
              "      <td>Jumanji (1995)</td>\n",
              "      <td>Adventure|Children|Fantasy</td>\n",
              "    </tr>\n",
              "    <tr>\n",
              "      <th>2</th>\n",
              "      <td>3</td>\n",
              "      <td>Grumpier Old Men (1995)</td>\n",
              "      <td>Comedy|Romance</td>\n",
              "    </tr>\n",
              "    <tr>\n",
              "      <th>3</th>\n",
              "      <td>4</td>\n",
              "      <td>Waiting to Exhale (1995)</td>\n",
              "      <td>Comedy|Drama|Romance</td>\n",
              "    </tr>\n",
              "    <tr>\n",
              "      <th>4</th>\n",
              "      <td>5</td>\n",
              "      <td>Father of the Bride Part II (1995)</td>\n",
              "      <td>Comedy</td>\n",
              "    </tr>\n",
              "  </tbody>\n",
              "</table>\n",
              "</div>"
            ],
            "text/plain": [
              "   filmeId  ...                                      generos\n",
              "0        1  ...  Adventure|Animation|Children|Comedy|Fantasy\n",
              "1        2  ...                   Adventure|Children|Fantasy\n",
              "2        3  ...                               Comedy|Romance\n",
              "3        4  ...                         Comedy|Drama|Romance\n",
              "4        5  ...                                       Comedy\n",
              "\n",
              "[5 rows x 3 columns]"
            ]
          },
          "metadata": {
            "tags": []
          },
          "execution_count": 286
        }
      ]
    },
    {
      "cell_type": "markdown",
      "metadata": {
        "id": "bZ46r5yAYCDO",
        "colab_type": "text"
      },
      "source": [
        "Há pouco falamos para consultar a documentação para obter mais informações, mas será que é realmente preciso sair do notebook para tirar algumas dúvidas mais simples? \n",
        "\n",
        "Os notebooks facilitam a nossa vida podendo consultar o docstring das funções e métodos, rodando a célula com um **?** na frente da chamada, uma view é aberta com as informações resumidas. Veja a seguir alguns exemplos."
      ]
    },
    {
      "cell_type": "code",
      "metadata": {
        "id": "sKew1Wy0UYbu",
        "colab_type": "code",
        "colab": {}
      },
      "source": [
        "# lendo a documentação de um método/atributo\n",
        "\n",
        "#?filmes.head"
      ],
      "execution_count": 0,
      "outputs": []
    },
    {
      "cell_type": "code",
      "metadata": {
        "id": "i6F4_qpeUzOq",
        "colab_type": "code",
        "colab": {}
      },
      "source": [
        "# lendo a documentação do tipo (docstring)\n",
        "\n",
        "#?filmes"
      ],
      "execution_count": 0,
      "outputs": []
    },
    {
      "cell_type": "markdown",
      "metadata": {
        "id": "wwcenqbGYGAO",
        "colab_type": "text"
      },
      "source": [
        "A base de dados que usamos até o momento contém o nome do filme, ano de lançamento e gêneros. O MovieLens conta com outras informações que estão em bases separadas, uma delas é a de avaliações. \n",
        "\n",
        "Agora vamos analisar um pouco melhor o dataset de avaliações."
      ]
    },
    {
      "cell_type": "code",
      "metadata": {
        "id": "7A1UmccVVLeK",
        "colab_type": "code",
        "outputId": "11aaffdb-0afd-44c4-e8ee-db5e69f2f08a",
        "colab": {
          "base_uri": "https://localhost:8080/",
          "height": 206
        }
      },
      "source": [
        "avaliacoes = pd.read_csv(\"https://github.com/alura-cursos/introducao-a-data-science/blob/master/aula0/ml-latest-small/ratings.csv?raw=true\")\n",
        "avaliacoes.head()"
      ],
      "execution_count": 0,
      "outputs": [
        {
          "output_type": "execute_result",
          "data": {
            "text/html": [
              "<div>\n",
              "<style scoped>\n",
              "    .dataframe tbody tr th:only-of-type {\n",
              "        vertical-align: middle;\n",
              "    }\n",
              "\n",
              "    .dataframe tbody tr th {\n",
              "        vertical-align: top;\n",
              "    }\n",
              "\n",
              "    .dataframe thead th {\n",
              "        text-align: right;\n",
              "    }\n",
              "</style>\n",
              "<table border=\"1\" class=\"dataframe\">\n",
              "  <thead>\n",
              "    <tr style=\"text-align: right;\">\n",
              "      <th></th>\n",
              "      <th>userId</th>\n",
              "      <th>movieId</th>\n",
              "      <th>rating</th>\n",
              "      <th>timestamp</th>\n",
              "    </tr>\n",
              "  </thead>\n",
              "  <tbody>\n",
              "    <tr>\n",
              "      <th>0</th>\n",
              "      <td>1</td>\n",
              "      <td>1</td>\n",
              "      <td>4.0</td>\n",
              "      <td>964982703</td>\n",
              "    </tr>\n",
              "    <tr>\n",
              "      <th>1</th>\n",
              "      <td>1</td>\n",
              "      <td>3</td>\n",
              "      <td>4.0</td>\n",
              "      <td>964981247</td>\n",
              "    </tr>\n",
              "    <tr>\n",
              "      <th>2</th>\n",
              "      <td>1</td>\n",
              "      <td>6</td>\n",
              "      <td>4.0</td>\n",
              "      <td>964982224</td>\n",
              "    </tr>\n",
              "    <tr>\n",
              "      <th>3</th>\n",
              "      <td>1</td>\n",
              "      <td>47</td>\n",
              "      <td>5.0</td>\n",
              "      <td>964983815</td>\n",
              "    </tr>\n",
              "    <tr>\n",
              "      <th>4</th>\n",
              "      <td>1</td>\n",
              "      <td>50</td>\n",
              "      <td>5.0</td>\n",
              "      <td>964982931</td>\n",
              "    </tr>\n",
              "  </tbody>\n",
              "</table>\n",
              "</div>"
            ],
            "text/plain": [
              "   userId  movieId  rating  timestamp\n",
              "0       1        1     4.0  964982703\n",
              "1       1        3     4.0  964981247\n",
              "2       1        6     4.0  964982224\n",
              "3       1       47     5.0  964983815\n",
              "4       1       50     5.0  964982931"
            ]
          },
          "metadata": {
            "tags": []
          },
          "execution_count": 289
        }
      ]
    },
    {
      "cell_type": "markdown",
      "metadata": {
        "id": "otNlLBcYE1gP",
        "colab_type": "text"
      },
      "source": [
        "Para visualizar algumas linhas estamos usando o ```.head()```, como ela mostra apenas as 5 primeiras linhas não sabemos qual é a quantidade de linhas que temos. Para descobrir a \"forma\" dos nossos dados podemos utilizar o ```avaliacoes.shape```, retornando uma [tupla](https://www.alura.com.br/artigos/conhecendo-as-tuplas-no-python), onde o primeiro termo indica o número de linhas e o segundo o número de colunas."
      ]
    },
    {
      "cell_type": "code",
      "metadata": {
        "id": "QRXxNO5-VyJD",
        "colab_type": "code",
        "outputId": "d98e1e76-2bec-43c5-95ec-fea3901f4305",
        "colab": {
          "base_uri": "https://localhost:8080/",
          "height": 36
        }
      },
      "source": [
        "avaliacoes.shape"
      ],
      "execution_count": 0,
      "outputs": [
        {
          "output_type": "execute_result",
          "data": {
            "text/plain": [
              "(100836, 4)"
            ]
          },
          "metadata": {
            "tags": []
          },
          "execution_count": 290
        }
      ]
    },
    {
      "cell_type": "code",
      "metadata": {
        "id": "Wo5ZCjYdV6To",
        "colab_type": "code",
        "outputId": "e1203b9e-0ed0-4f87-827a-da13d562a820",
        "colab": {
          "base_uri": "https://localhost:8080/",
          "height": 36
        }
      },
      "source": [
        "len(avaliacoes)"
      ],
      "execution_count": 0,
      "outputs": [
        {
          "output_type": "execute_result",
          "data": {
            "text/plain": [
              "100836"
            ]
          },
          "metadata": {
            "tags": []
          },
          "execution_count": 291
        }
      ]
    },
    {
      "cell_type": "markdown",
      "metadata": {
        "id": "5E9e-dkuGUaK",
        "colab_type": "text"
      },
      "source": [
        "Vamos substituir os nomes das colunas de inglês para português e entender o que são essas colunas. \n",
        "\n",
        "usarioId => ID para para usuário que votou em determinado filme.\n",
        "\n",
        "filmeId => ID para identificar um filme votado.\n",
        "\n",
        "nota => A nota dada para pelo usuário para o respectivo filme.\n",
        "\n",
        "momento => A data da votação que não está formatada como data\n",
        "\n",
        "Como cada linha contém um voto para o respectivo filme é de se esperar que um filme tenha diversos votos, mas repare que nas 5 primeiras linhas temos o filme **1, 3, 6, 47, 50**. Mas e se eu quiser analisar apenas as notas do filme 1, como posso separar essa informação?\n",
        "\n"
      ]
    },
    {
      "cell_type": "code",
      "metadata": {
        "id": "QblDDv4SWBvC",
        "colab_type": "code",
        "outputId": "f09ab937-e368-4847-a215-e32720a92a1f",
        "colab": {
          "base_uri": "https://localhost:8080/",
          "height": 206
        }
      },
      "source": [
        "avaliacoes.columns = [\"usuarioId\", \"filmeId\", \"nota\", \"momento\"]\n",
        "avaliacoes.head()"
      ],
      "execution_count": 0,
      "outputs": [
        {
          "output_type": "execute_result",
          "data": {
            "text/html": [
              "<div>\n",
              "<style scoped>\n",
              "    .dataframe tbody tr th:only-of-type {\n",
              "        vertical-align: middle;\n",
              "    }\n",
              "\n",
              "    .dataframe tbody tr th {\n",
              "        vertical-align: top;\n",
              "    }\n",
              "\n",
              "    .dataframe thead th {\n",
              "        text-align: right;\n",
              "    }\n",
              "</style>\n",
              "<table border=\"1\" class=\"dataframe\">\n",
              "  <thead>\n",
              "    <tr style=\"text-align: right;\">\n",
              "      <th></th>\n",
              "      <th>usuarioId</th>\n",
              "      <th>filmeId</th>\n",
              "      <th>nota</th>\n",
              "      <th>momento</th>\n",
              "    </tr>\n",
              "  </thead>\n",
              "  <tbody>\n",
              "    <tr>\n",
              "      <th>0</th>\n",
              "      <td>1</td>\n",
              "      <td>1</td>\n",
              "      <td>4.0</td>\n",
              "      <td>964982703</td>\n",
              "    </tr>\n",
              "    <tr>\n",
              "      <th>1</th>\n",
              "      <td>1</td>\n",
              "      <td>3</td>\n",
              "      <td>4.0</td>\n",
              "      <td>964981247</td>\n",
              "    </tr>\n",
              "    <tr>\n",
              "      <th>2</th>\n",
              "      <td>1</td>\n",
              "      <td>6</td>\n",
              "      <td>4.0</td>\n",
              "      <td>964982224</td>\n",
              "    </tr>\n",
              "    <tr>\n",
              "      <th>3</th>\n",
              "      <td>1</td>\n",
              "      <td>47</td>\n",
              "      <td>5.0</td>\n",
              "      <td>964983815</td>\n",
              "    </tr>\n",
              "    <tr>\n",
              "      <th>4</th>\n",
              "      <td>1</td>\n",
              "      <td>50</td>\n",
              "      <td>5.0</td>\n",
              "      <td>964982931</td>\n",
              "    </tr>\n",
              "  </tbody>\n",
              "</table>\n",
              "</div>"
            ],
            "text/plain": [
              "   usuarioId  filmeId  nota    momento\n",
              "0          1        1   4.0  964982703\n",
              "1          1        3   4.0  964981247\n",
              "2          1        6   4.0  964982224\n",
              "3          1       47   5.0  964983815\n",
              "4          1       50   5.0  964982931"
            ]
          },
          "metadata": {
            "tags": []
          },
          "execution_count": 292
        }
      ]
    },
    {
      "cell_type": "markdown",
      "metadata": {
        "id": "W7qCWhXVICxr",
        "colab_type": "text"
      },
      "source": [
        "Uma forma para \"separar\" as informações apenas do **filmeId 1** é chamando o método ```avaliacaoes.query(\"filmeId==1\")```, esse método retornará apenas as linhas para quais a expressão booleana, \"filmeId==1\", for verdadeira.\n",
        "\n",
        "Tendo as informações do **filmeId 1** podemos chamar o ```avaliacoes_do_filme_1.describe()```, para analisar as estatítiscas gerais dos dados."
      ]
    },
    {
      "cell_type": "code",
      "metadata": {
        "id": "t26TcAKMWLx8",
        "colab_type": "code",
        "outputId": "501f0a84-6c13-4e8d-84c6-4f2801fc0c92",
        "colab": {
          "base_uri": "https://localhost:8080/",
          "height": 206
        }
      },
      "source": [
        "avaliacoes_do_filme_1 = avaliacoes.query(\"filmeId==1\")\n",
        "avaliacoes_do_filme_1.head()"
      ],
      "execution_count": 0,
      "outputs": [
        {
          "output_type": "execute_result",
          "data": {
            "text/html": [
              "<div>\n",
              "<style scoped>\n",
              "    .dataframe tbody tr th:only-of-type {\n",
              "        vertical-align: middle;\n",
              "    }\n",
              "\n",
              "    .dataframe tbody tr th {\n",
              "        vertical-align: top;\n",
              "    }\n",
              "\n",
              "    .dataframe thead th {\n",
              "        text-align: right;\n",
              "    }\n",
              "</style>\n",
              "<table border=\"1\" class=\"dataframe\">\n",
              "  <thead>\n",
              "    <tr style=\"text-align: right;\">\n",
              "      <th></th>\n",
              "      <th>usuarioId</th>\n",
              "      <th>filmeId</th>\n",
              "      <th>nota</th>\n",
              "      <th>momento</th>\n",
              "    </tr>\n",
              "  </thead>\n",
              "  <tbody>\n",
              "    <tr>\n",
              "      <th>0</th>\n",
              "      <td>1</td>\n",
              "      <td>1</td>\n",
              "      <td>4.0</td>\n",
              "      <td>964982703</td>\n",
              "    </tr>\n",
              "    <tr>\n",
              "      <th>516</th>\n",
              "      <td>5</td>\n",
              "      <td>1</td>\n",
              "      <td>4.0</td>\n",
              "      <td>847434962</td>\n",
              "    </tr>\n",
              "    <tr>\n",
              "      <th>874</th>\n",
              "      <td>7</td>\n",
              "      <td>1</td>\n",
              "      <td>4.5</td>\n",
              "      <td>1106635946</td>\n",
              "    </tr>\n",
              "    <tr>\n",
              "      <th>1434</th>\n",
              "      <td>15</td>\n",
              "      <td>1</td>\n",
              "      <td>2.5</td>\n",
              "      <td>1510577970</td>\n",
              "    </tr>\n",
              "    <tr>\n",
              "      <th>1667</th>\n",
              "      <td>17</td>\n",
              "      <td>1</td>\n",
              "      <td>4.5</td>\n",
              "      <td>1305696483</td>\n",
              "    </tr>\n",
              "  </tbody>\n",
              "</table>\n",
              "</div>"
            ],
            "text/plain": [
              "      usuarioId  filmeId  nota     momento\n",
              "0             1        1   4.0   964982703\n",
              "516           5        1   4.0   847434962\n",
              "874           7        1   4.5  1106635946\n",
              "1434         15        1   2.5  1510577970\n",
              "1667         17        1   4.5  1305696483"
            ]
          },
          "metadata": {
            "tags": []
          },
          "execution_count": 293
        }
      ]
    },
    {
      "cell_type": "code",
      "metadata": {
        "id": "se3soadiWuG_",
        "colab_type": "code",
        "outputId": "5a2de667-af30-4bb2-986c-aff204b78ca7",
        "colab": {
          "base_uri": "https://localhost:8080/",
          "height": 300
        }
      },
      "source": [
        "avaliacoes_do_filme_1.describe()"
      ],
      "execution_count": 0,
      "outputs": [
        {
          "output_type": "execute_result",
          "data": {
            "text/html": [
              "<div>\n",
              "<style scoped>\n",
              "    .dataframe tbody tr th:only-of-type {\n",
              "        vertical-align: middle;\n",
              "    }\n",
              "\n",
              "    .dataframe tbody tr th {\n",
              "        vertical-align: top;\n",
              "    }\n",
              "\n",
              "    .dataframe thead th {\n",
              "        text-align: right;\n",
              "    }\n",
              "</style>\n",
              "<table border=\"1\" class=\"dataframe\">\n",
              "  <thead>\n",
              "    <tr style=\"text-align: right;\">\n",
              "      <th></th>\n",
              "      <th>usuarioId</th>\n",
              "      <th>filmeId</th>\n",
              "      <th>nota</th>\n",
              "      <th>momento</th>\n",
              "    </tr>\n",
              "  </thead>\n",
              "  <tbody>\n",
              "    <tr>\n",
              "      <th>count</th>\n",
              "      <td>215.000000</td>\n",
              "      <td>215.0</td>\n",
              "      <td>215.000000</td>\n",
              "      <td>2.150000e+02</td>\n",
              "    </tr>\n",
              "    <tr>\n",
              "      <th>mean</th>\n",
              "      <td>306.530233</td>\n",
              "      <td>1.0</td>\n",
              "      <td>3.920930</td>\n",
              "      <td>1.129835e+09</td>\n",
              "    </tr>\n",
              "    <tr>\n",
              "      <th>std</th>\n",
              "      <td>180.419754</td>\n",
              "      <td>0.0</td>\n",
              "      <td>0.834859</td>\n",
              "      <td>2.393163e+08</td>\n",
              "    </tr>\n",
              "    <tr>\n",
              "      <th>min</th>\n",
              "      <td>1.000000</td>\n",
              "      <td>1.0</td>\n",
              "      <td>0.500000</td>\n",
              "      <td>8.293223e+08</td>\n",
              "    </tr>\n",
              "    <tr>\n",
              "      <th>25%</th>\n",
              "      <td>155.500000</td>\n",
              "      <td>1.0</td>\n",
              "      <td>3.500000</td>\n",
              "      <td>8.779224e+08</td>\n",
              "    </tr>\n",
              "    <tr>\n",
              "      <th>50%</th>\n",
              "      <td>290.000000</td>\n",
              "      <td>1.0</td>\n",
              "      <td>4.000000</td>\n",
              "      <td>1.106855e+09</td>\n",
              "    </tr>\n",
              "    <tr>\n",
              "      <th>75%</th>\n",
              "      <td>468.500000</td>\n",
              "      <td>1.0</td>\n",
              "      <td>4.500000</td>\n",
              "      <td>1.348523e+09</td>\n",
              "    </tr>\n",
              "    <tr>\n",
              "      <th>max</th>\n",
              "      <td>610.000000</td>\n",
              "      <td>1.0</td>\n",
              "      <td>5.000000</td>\n",
              "      <td>1.535710e+09</td>\n",
              "    </tr>\n",
              "  </tbody>\n",
              "</table>\n",
              "</div>"
            ],
            "text/plain": [
              "        usuarioId  filmeId        nota       momento\n",
              "count  215.000000    215.0  215.000000  2.150000e+02\n",
              "mean   306.530233      1.0    3.920930  1.129835e+09\n",
              "std    180.419754      0.0    0.834859  2.393163e+08\n",
              "min      1.000000      1.0    0.500000  8.293223e+08\n",
              "25%    155.500000      1.0    3.500000  8.779224e+08\n",
              "50%    290.000000      1.0    4.000000  1.106855e+09\n",
              "75%    468.500000      1.0    4.500000  1.348523e+09\n",
              "max    610.000000      1.0    5.000000  1.535710e+09"
            ]
          },
          "metadata": {
            "tags": []
          },
          "execution_count": 294
        }
      ]
    },
    {
      "cell_type": "markdown",
      "metadata": {
        "id": "zUD1xulBKcou",
        "colab_type": "text"
      },
      "source": [
        "Caso queira uma estatística particular, podemos apenas chamar o método desajado, repare abaixo como calculamos apenas a média das avaliações do **filmeId 1**."
      ]
    },
    {
      "cell_type": "code",
      "metadata": {
        "id": "lf4dH46SW2ro",
        "colab_type": "code",
        "outputId": "f93ad5ec-4656-4099-8934-f6c726dd2490",
        "colab": {
          "base_uri": "https://localhost:8080/",
          "height": 111
        }
      },
      "source": [
        "avaliacoes_do_filme_1.mean()"
      ],
      "execution_count": 0,
      "outputs": [
        {
          "output_type": "execute_result",
          "data": {
            "text/plain": [
              "usuarioId    3.065302e+02\n",
              "filmeId      1.000000e+00\n",
              "nota         3.920930e+00\n",
              "momento      1.129835e+09\n",
              "dtype: float64"
            ]
          },
          "metadata": {
            "tags": []
          },
          "execution_count": 295
        }
      ]
    },
    {
      "cell_type": "markdown",
      "metadata": {
        "id": "dylF75HzK_nI",
        "colab_type": "text"
      },
      "source": [
        "Calculamos as estatísicas apenas para o **filmeId 1**, mas também podemos chamar o método ```.describe()``` para a base completa (avaliacões)."
      ]
    },
    {
      "cell_type": "code",
      "metadata": {
        "id": "jZ9ZtovSWS0C",
        "colab_type": "code",
        "outputId": "51520b99-b8f4-4823-9b37-89e1cad54889",
        "colab": {
          "base_uri": "https://localhost:8080/",
          "height": 300
        }
      },
      "source": [
        "avaliacoes.describe()"
      ],
      "execution_count": 0,
      "outputs": [
        {
          "output_type": "execute_result",
          "data": {
            "text/html": [
              "<div>\n",
              "<style scoped>\n",
              "    .dataframe tbody tr th:only-of-type {\n",
              "        vertical-align: middle;\n",
              "    }\n",
              "\n",
              "    .dataframe tbody tr th {\n",
              "        vertical-align: top;\n",
              "    }\n",
              "\n",
              "    .dataframe thead th {\n",
              "        text-align: right;\n",
              "    }\n",
              "</style>\n",
              "<table border=\"1\" class=\"dataframe\">\n",
              "  <thead>\n",
              "    <tr style=\"text-align: right;\">\n",
              "      <th></th>\n",
              "      <th>usuarioId</th>\n",
              "      <th>filmeId</th>\n",
              "      <th>nota</th>\n",
              "      <th>momento</th>\n",
              "    </tr>\n",
              "  </thead>\n",
              "  <tbody>\n",
              "    <tr>\n",
              "      <th>count</th>\n",
              "      <td>100836.000000</td>\n",
              "      <td>100836.000000</td>\n",
              "      <td>100836.000000</td>\n",
              "      <td>1.008360e+05</td>\n",
              "    </tr>\n",
              "    <tr>\n",
              "      <th>mean</th>\n",
              "      <td>326.127564</td>\n",
              "      <td>19435.295718</td>\n",
              "      <td>3.501557</td>\n",
              "      <td>1.205946e+09</td>\n",
              "    </tr>\n",
              "    <tr>\n",
              "      <th>std</th>\n",
              "      <td>182.618491</td>\n",
              "      <td>35530.987199</td>\n",
              "      <td>1.042529</td>\n",
              "      <td>2.162610e+08</td>\n",
              "    </tr>\n",
              "    <tr>\n",
              "      <th>min</th>\n",
              "      <td>1.000000</td>\n",
              "      <td>1.000000</td>\n",
              "      <td>0.500000</td>\n",
              "      <td>8.281246e+08</td>\n",
              "    </tr>\n",
              "    <tr>\n",
              "      <th>25%</th>\n",
              "      <td>177.000000</td>\n",
              "      <td>1199.000000</td>\n",
              "      <td>3.000000</td>\n",
              "      <td>1.019124e+09</td>\n",
              "    </tr>\n",
              "    <tr>\n",
              "      <th>50%</th>\n",
              "      <td>325.000000</td>\n",
              "      <td>2991.000000</td>\n",
              "      <td>3.500000</td>\n",
              "      <td>1.186087e+09</td>\n",
              "    </tr>\n",
              "    <tr>\n",
              "      <th>75%</th>\n",
              "      <td>477.000000</td>\n",
              "      <td>8122.000000</td>\n",
              "      <td>4.000000</td>\n",
              "      <td>1.435994e+09</td>\n",
              "    </tr>\n",
              "    <tr>\n",
              "      <th>max</th>\n",
              "      <td>610.000000</td>\n",
              "      <td>193609.000000</td>\n",
              "      <td>5.000000</td>\n",
              "      <td>1.537799e+09</td>\n",
              "    </tr>\n",
              "  </tbody>\n",
              "</table>\n",
              "</div>"
            ],
            "text/plain": [
              "           usuarioId        filmeId           nota       momento\n",
              "count  100836.000000  100836.000000  100836.000000  1.008360e+05\n",
              "mean      326.127564   19435.295718       3.501557  1.205946e+09\n",
              "std       182.618491   35530.987199       1.042529  2.162610e+08\n",
              "min         1.000000       1.000000       0.500000  8.281246e+08\n",
              "25%       177.000000    1199.000000       3.000000  1.019124e+09\n",
              "50%       325.000000    2991.000000       3.500000  1.186087e+09\n",
              "75%       477.000000    8122.000000       4.000000  1.435994e+09\n",
              "max       610.000000  193609.000000       5.000000  1.537799e+09"
            ]
          },
          "metadata": {
            "tags": []
          },
          "execution_count": 296
        }
      ]
    },
    {
      "cell_type": "markdown",
      "metadata": {
        "id": "4Kq3eGVXLmca",
        "colab_type": "text"
      },
      "source": [
        "Ok, nós calculamos um tanto de coisa usando `.describe()` e `.mean()`, mas a informação que realmente queremos é a média da nota. Então o ponto é, como calcular a média apenas das notas?\n",
        "\n",
        "A primeira coisa que precisamos fazer é selecionar apenas as informações de notas. Usando uma estrutura muito parecida com a de [chave-valor dos dicionários python](https://www.alura.com.br/artigos/trabalhando-com-o-dicionario-no-python). \n",
        "\n",
        "Com o comando ```avaliacoes[\"nota\"]```, obtemos os valores da coluna nota (repare que o tipo retornado é uma Série pandas, por isso o index de cada nota é mantido). Para calcular a média de todas as notas executamos ```avaliacoes[\"notas\"].means()```\n"
      ]
    },
    {
      "cell_type": "code",
      "metadata": {
        "id": "OnltfnYqWi40",
        "colab_type": "code",
        "outputId": "0a3c1912-2ea3-4a50-f3e6-f77570c170e5",
        "colab": {
          "base_uri": "https://localhost:8080/",
          "height": 241
        }
      },
      "source": [
        "avaliacoes[\"nota\"]"
      ],
      "execution_count": 0,
      "outputs": [
        {
          "output_type": "execute_result",
          "data": {
            "text/plain": [
              "0         4.0\n",
              "1         4.0\n",
              "2         4.0\n",
              "3         5.0\n",
              "4         5.0\n",
              "         ... \n",
              "100831    4.0\n",
              "100832    5.0\n",
              "100833    5.0\n",
              "100834    5.0\n",
              "100835    3.0\n",
              "Name: nota, Length: 100836, dtype: float64"
            ]
          },
          "metadata": {
            "tags": []
          },
          "execution_count": 297
        }
      ]
    },
    {
      "cell_type": "code",
      "metadata": {
        "id": "Xos6cYlmPWO6",
        "colab_type": "code",
        "outputId": "843e04f3-d46c-4715-8565-d0ff1fdda825",
        "colab": {
          "base_uri": "https://localhost:8080/",
          "height": 36
        }
      },
      "source": [
        "avaliacoes[\"nota\"].mean()"
      ],
      "execution_count": 0,
      "outputs": [
        {
          "output_type": "execute_result",
          "data": {
            "text/plain": [
              "3.501556983616962"
            ]
          },
          "metadata": {
            "tags": []
          },
          "execution_count": 298
        }
      ]
    },
    {
      "cell_type": "markdown",
      "metadata": {
        "id": "u03bvyYZPvza",
        "colab_type": "text"
      },
      "source": [
        "Podemos calcular também na nota média do **filmeId 1**, repare que o resultado é um pouco maior que a geral. Apenas com essa análise não da para bater o martelo que o filme 1 é acima da média, mas apenas com essa análise conseguimos formular uma primeira hipótese!"
      ]
    },
    {
      "cell_type": "code",
      "metadata": {
        "id": "h8JDwB_2W8yR",
        "colab_type": "code",
        "outputId": "b2771dd3-5e59-4def-d63c-c3044759b494",
        "colab": {
          "base_uri": "https://localhost:8080/",
          "height": 36
        }
      },
      "source": [
        "avaliacoes_do_filme_1[\"nota\"].mean()"
      ],
      "execution_count": 0,
      "outputs": [
        {
          "output_type": "execute_result",
          "data": {
            "text/plain": [
              "3.9209302325581397"
            ]
          },
          "metadata": {
            "tags": []
          },
          "execution_count": 299
        }
      ]
    },
    {
      "cell_type": "markdown",
      "metadata": {
        "id": "Wv6npVXeRuVl",
        "colab_type": "text"
      },
      "source": [
        "Nós calculamos uma média geral, uma média para o filmeId 1. Agora eu quero calcular a média das notas para todos os filmes, podemos fazer isso usando o método ```.groupby(filmeId)```, o parâmetro passado é para indicar qual coluna ele deve utilizar para \"agrupar\" os dados. Depois só calcular a média como fizemos anteriormente.\n",
        "\n"
      ]
    },
    {
      "cell_type": "code",
      "metadata": {
        "id": "78qsVDbWW-kf",
        "colab_type": "code",
        "outputId": "14a0e281-4fb1-490b-e4d5-8f8d4e2aa8c4",
        "colab": {
          "base_uri": "https://localhost:8080/",
          "height": 148
        }
      },
      "source": [
        "notas_medias_por_filme = avaliacoes.groupby(\"filmeId\")[\"nota\"].mean()\n",
        "notas_medias_por_filme.head()"
      ],
      "execution_count": 0,
      "outputs": [
        {
          "output_type": "execute_result",
          "data": {
            "text/plain": [
              "filmeId\n",
              "1    3.920930\n",
              "2    3.431818\n",
              "3    3.259615\n",
              "4    2.357143\n",
              "5    3.071429\n",
              "Name: nota, dtype: float64"
            ]
          },
          "metadata": {
            "tags": []
          },
          "execution_count": 300
        }
      ]
    },
    {
      "cell_type": "markdown",
      "metadata": {
        "id": "gRyxEdyOWs4I",
        "colab_type": "text"
      },
      "source": [
        "Temos as notas médias calculadas, mas agora precisamos juntar as informações de notas médias com a base de dados **filmes**.\n",
        "\n",
        "Poderíamos criar uma nova coluna e atribuir a váriável `notas_medias_por_filme`, de forma direta:\n",
        "\n",
        "```filmes[\"nota_media\"] = notas_medias_por_filme```\n",
        "\n",
        "Como discutimos em aula, essa não é uma boa prática pois precisamos garantir que a nota média seja do respectivo filme.\n",
        "\n",
        "Para garantir essa condição vamos utilizar o ```.join()```, criando um novo dataframe (```filmes_com_media = filmes.join(notas_medias_por_filme, on=\"filmeId\")```). \n",
        "\n",
        "Veja como fazer, nas células a seguir."
      ]
    },
    {
      "cell_type": "code",
      "metadata": {
        "id": "jPTL419OYjto",
        "colab_type": "code",
        "outputId": "e640a8dc-141c-429f-df26-4435183012a1",
        "colab": {
          "base_uri": "https://localhost:8080/",
          "height": 423
        }
      },
      "source": [
        "filmes"
      ],
      "execution_count": 0,
      "outputs": [
        {
          "output_type": "execute_result",
          "data": {
            "text/html": [
              "<div>\n",
              "<style scoped>\n",
              "    .dataframe tbody tr th:only-of-type {\n",
              "        vertical-align: middle;\n",
              "    }\n",
              "\n",
              "    .dataframe tbody tr th {\n",
              "        vertical-align: top;\n",
              "    }\n",
              "\n",
              "    .dataframe thead th {\n",
              "        text-align: right;\n",
              "    }\n",
              "</style>\n",
              "<table border=\"1\" class=\"dataframe\">\n",
              "  <thead>\n",
              "    <tr style=\"text-align: right;\">\n",
              "      <th></th>\n",
              "      <th>filmeId</th>\n",
              "      <th>titulo</th>\n",
              "      <th>generos</th>\n",
              "    </tr>\n",
              "  </thead>\n",
              "  <tbody>\n",
              "    <tr>\n",
              "      <th>0</th>\n",
              "      <td>1</td>\n",
              "      <td>Toy Story (1995)</td>\n",
              "      <td>Adventure|Animation|Children|Comedy|Fantasy</td>\n",
              "    </tr>\n",
              "    <tr>\n",
              "      <th>1</th>\n",
              "      <td>2</td>\n",
              "      <td>Jumanji (1995)</td>\n",
              "      <td>Adventure|Children|Fantasy</td>\n",
              "    </tr>\n",
              "    <tr>\n",
              "      <th>2</th>\n",
              "      <td>3</td>\n",
              "      <td>Grumpier Old Men (1995)</td>\n",
              "      <td>Comedy|Romance</td>\n",
              "    </tr>\n",
              "    <tr>\n",
              "      <th>3</th>\n",
              "      <td>4</td>\n",
              "      <td>Waiting to Exhale (1995)</td>\n",
              "      <td>Comedy|Drama|Romance</td>\n",
              "    </tr>\n",
              "    <tr>\n",
              "      <th>4</th>\n",
              "      <td>5</td>\n",
              "      <td>Father of the Bride Part II (1995)</td>\n",
              "      <td>Comedy</td>\n",
              "    </tr>\n",
              "    <tr>\n",
              "      <th>...</th>\n",
              "      <td>...</td>\n",
              "      <td>...</td>\n",
              "      <td>...</td>\n",
              "    </tr>\n",
              "    <tr>\n",
              "      <th>9737</th>\n",
              "      <td>193581</td>\n",
              "      <td>Black Butler: Book of the Atlantic (2017)</td>\n",
              "      <td>Action|Animation|Comedy|Fantasy</td>\n",
              "    </tr>\n",
              "    <tr>\n",
              "      <th>9738</th>\n",
              "      <td>193583</td>\n",
              "      <td>No Game No Life: Zero (2017)</td>\n",
              "      <td>Animation|Comedy|Fantasy</td>\n",
              "    </tr>\n",
              "    <tr>\n",
              "      <th>9739</th>\n",
              "      <td>193585</td>\n",
              "      <td>Flint (2017)</td>\n",
              "      <td>Drama</td>\n",
              "    </tr>\n",
              "    <tr>\n",
              "      <th>9740</th>\n",
              "      <td>193587</td>\n",
              "      <td>Bungo Stray Dogs: Dead Apple (2018)</td>\n",
              "      <td>Action|Animation</td>\n",
              "    </tr>\n",
              "    <tr>\n",
              "      <th>9741</th>\n",
              "      <td>193609</td>\n",
              "      <td>Andrew Dice Clay: Dice Rules (1991)</td>\n",
              "      <td>Comedy</td>\n",
              "    </tr>\n",
              "  </tbody>\n",
              "</table>\n",
              "<p>9742 rows × 3 columns</p>\n",
              "</div>"
            ],
            "text/plain": [
              "      filmeId  ...                                      generos\n",
              "0           1  ...  Adventure|Animation|Children|Comedy|Fantasy\n",
              "1           2  ...                   Adventure|Children|Fantasy\n",
              "2           3  ...                               Comedy|Romance\n",
              "3           4  ...                         Comedy|Drama|Romance\n",
              "4           5  ...                                       Comedy\n",
              "...       ...  ...                                          ...\n",
              "9737   193581  ...              Action|Animation|Comedy|Fantasy\n",
              "9738   193583  ...                     Animation|Comedy|Fantasy\n",
              "9739   193585  ...                                        Drama\n",
              "9740   193587  ...                             Action|Animation\n",
              "9741   193609  ...                                       Comedy\n",
              "\n",
              "[9742 rows x 3 columns]"
            ]
          },
          "metadata": {
            "tags": []
          },
          "execution_count": 301
        }
      ]
    },
    {
      "cell_type": "code",
      "metadata": {
        "id": "AVlwJvZRZCQP",
        "colab_type": "code",
        "outputId": "7489e615-270a-4fa0-e80c-3f0cb2c10957",
        "colab": {
          "base_uri": "https://localhost:8080/",
          "height": 260
        }
      },
      "source": [
        "notas_medias_por_filme"
      ],
      "execution_count": 0,
      "outputs": [
        {
          "output_type": "execute_result",
          "data": {
            "text/plain": [
              "filmeId\n",
              "1         3.920930\n",
              "2         3.431818\n",
              "3         3.259615\n",
              "4         2.357143\n",
              "5         3.071429\n",
              "            ...   \n",
              "193581    4.000000\n",
              "193583    3.500000\n",
              "193585    3.500000\n",
              "193587    3.500000\n",
              "193609    4.000000\n",
              "Name: nota, Length: 9724, dtype: float64"
            ]
          },
          "metadata": {
            "tags": []
          },
          "execution_count": 302
        }
      ]
    },
    {
      "cell_type": "code",
      "metadata": {
        "id": "hoUllrZFZgsA",
        "colab_type": "code",
        "outputId": "89500ebd-f7b1-48da-fe01-0ffede08e272",
        "colab": {
          "base_uri": "https://localhost:8080/",
          "height": 206
        }
      },
      "source": [
        "filmes_com_media = filmes.join(notas_medias_por_filme, on=\"filmeId\")\n",
        "filmes_com_media.head()"
      ],
      "execution_count": 0,
      "outputs": [
        {
          "output_type": "execute_result",
          "data": {
            "text/html": [
              "<div>\n",
              "<style scoped>\n",
              "    .dataframe tbody tr th:only-of-type {\n",
              "        vertical-align: middle;\n",
              "    }\n",
              "\n",
              "    .dataframe tbody tr th {\n",
              "        vertical-align: top;\n",
              "    }\n",
              "\n",
              "    .dataframe thead th {\n",
              "        text-align: right;\n",
              "    }\n",
              "</style>\n",
              "<table border=\"1\" class=\"dataframe\">\n",
              "  <thead>\n",
              "    <tr style=\"text-align: right;\">\n",
              "      <th></th>\n",
              "      <th>filmeId</th>\n",
              "      <th>titulo</th>\n",
              "      <th>generos</th>\n",
              "      <th>nota</th>\n",
              "    </tr>\n",
              "  </thead>\n",
              "  <tbody>\n",
              "    <tr>\n",
              "      <th>0</th>\n",
              "      <td>1</td>\n",
              "      <td>Toy Story (1995)</td>\n",
              "      <td>Adventure|Animation|Children|Comedy|Fantasy</td>\n",
              "      <td>3.920930</td>\n",
              "    </tr>\n",
              "    <tr>\n",
              "      <th>1</th>\n",
              "      <td>2</td>\n",
              "      <td>Jumanji (1995)</td>\n",
              "      <td>Adventure|Children|Fantasy</td>\n",
              "      <td>3.431818</td>\n",
              "    </tr>\n",
              "    <tr>\n",
              "      <th>2</th>\n",
              "      <td>3</td>\n",
              "      <td>Grumpier Old Men (1995)</td>\n",
              "      <td>Comedy|Romance</td>\n",
              "      <td>3.259615</td>\n",
              "    </tr>\n",
              "    <tr>\n",
              "      <th>3</th>\n",
              "      <td>4</td>\n",
              "      <td>Waiting to Exhale (1995)</td>\n",
              "      <td>Comedy|Drama|Romance</td>\n",
              "      <td>2.357143</td>\n",
              "    </tr>\n",
              "    <tr>\n",
              "      <th>4</th>\n",
              "      <td>5</td>\n",
              "      <td>Father of the Bride Part II (1995)</td>\n",
              "      <td>Comedy</td>\n",
              "      <td>3.071429</td>\n",
              "    </tr>\n",
              "  </tbody>\n",
              "</table>\n",
              "</div>"
            ],
            "text/plain": [
              "   filmeId  ...      nota\n",
              "0        1  ...  3.920930\n",
              "1        2  ...  3.431818\n",
              "2        3  ...  3.259615\n",
              "3        4  ...  2.357143\n",
              "4        5  ...  3.071429\n",
              "\n",
              "[5 rows x 4 columns]"
            ]
          },
          "metadata": {
            "tags": []
          },
          "execution_count": 303
        }
      ]
    },
    {
      "cell_type": "markdown",
      "metadata": {
        "id": "IDLHWb9cYkuy",
        "colab_type": "text"
      },
      "source": [
        "Agora que temos as médias, que tal visualizar o nosso dataframe ordenado pela nota de forma decrescente?"
      ]
    },
    {
      "cell_type": "code",
      "metadata": {
        "id": "MLNCjcgdaOb5",
        "colab_type": "code",
        "outputId": "70024419-071e-4249-85cb-3573f66fa5d3",
        "colab": {
          "base_uri": "https://localhost:8080/",
          "height": 520
        }
      },
      "source": [
        "filmes_com_media.sort_values(\"nota\", ascending=False).head(15)"
      ],
      "execution_count": 0,
      "outputs": [
        {
          "output_type": "execute_result",
          "data": {
            "text/html": [
              "<div>\n",
              "<style scoped>\n",
              "    .dataframe tbody tr th:only-of-type {\n",
              "        vertical-align: middle;\n",
              "    }\n",
              "\n",
              "    .dataframe tbody tr th {\n",
              "        vertical-align: top;\n",
              "    }\n",
              "\n",
              "    .dataframe thead th {\n",
              "        text-align: right;\n",
              "    }\n",
              "</style>\n",
              "<table border=\"1\" class=\"dataframe\">\n",
              "  <thead>\n",
              "    <tr style=\"text-align: right;\">\n",
              "      <th></th>\n",
              "      <th>filmeId</th>\n",
              "      <th>titulo</th>\n",
              "      <th>generos</th>\n",
              "      <th>nota</th>\n",
              "    </tr>\n",
              "  </thead>\n",
              "  <tbody>\n",
              "    <tr>\n",
              "      <th>7656</th>\n",
              "      <td>88448</td>\n",
              "      <td>Paper Birds (Pájaros de papel) (2010)</td>\n",
              "      <td>Comedy|Drama</td>\n",
              "      <td>5.0</td>\n",
              "    </tr>\n",
              "    <tr>\n",
              "      <th>8107</th>\n",
              "      <td>100556</td>\n",
              "      <td>Act of Killing, The (2012)</td>\n",
              "      <td>Documentary</td>\n",
              "      <td>5.0</td>\n",
              "    </tr>\n",
              "    <tr>\n",
              "      <th>9083</th>\n",
              "      <td>143031</td>\n",
              "      <td>Jump In! (2007)</td>\n",
              "      <td>Comedy|Drama|Romance</td>\n",
              "      <td>5.0</td>\n",
              "    </tr>\n",
              "    <tr>\n",
              "      <th>9094</th>\n",
              "      <td>143511</td>\n",
              "      <td>Human (2015)</td>\n",
              "      <td>Documentary</td>\n",
              "      <td>5.0</td>\n",
              "    </tr>\n",
              "    <tr>\n",
              "      <th>9096</th>\n",
              "      <td>143559</td>\n",
              "      <td>L.A. Slasher (2015)</td>\n",
              "      <td>Comedy|Crime|Fantasy</td>\n",
              "      <td>5.0</td>\n",
              "    </tr>\n",
              "    <tr>\n",
              "      <th>4251</th>\n",
              "      <td>6201</td>\n",
              "      <td>Lady Jane (1986)</td>\n",
              "      <td>Drama|Romance</td>\n",
              "      <td>5.0</td>\n",
              "    </tr>\n",
              "    <tr>\n",
              "      <th>8154</th>\n",
              "      <td>102217</td>\n",
              "      <td>Bill Hicks: Revelations (1993)</td>\n",
              "      <td>Comedy</td>\n",
              "      <td>5.0</td>\n",
              "    </tr>\n",
              "    <tr>\n",
              "      <th>8148</th>\n",
              "      <td>102084</td>\n",
              "      <td>Justice League: Doom (2012)</td>\n",
              "      <td>Action|Animation|Fantasy</td>\n",
              "      <td>5.0</td>\n",
              "    </tr>\n",
              "    <tr>\n",
              "      <th>4246</th>\n",
              "      <td>6192</td>\n",
              "      <td>Open Hearts (Elsker dig for evigt) (2002)</td>\n",
              "      <td>Romance</td>\n",
              "      <td>5.0</td>\n",
              "    </tr>\n",
              "    <tr>\n",
              "      <th>9122</th>\n",
              "      <td>145994</td>\n",
              "      <td>Formula of Love (1984)</td>\n",
              "      <td>Comedy</td>\n",
              "      <td>5.0</td>\n",
              "    </tr>\n",
              "    <tr>\n",
              "      <th>8115</th>\n",
              "      <td>100906</td>\n",
              "      <td>Maniac Cop 2 (1990)</td>\n",
              "      <td>Action|Horror|Thriller</td>\n",
              "      <td>5.0</td>\n",
              "    </tr>\n",
              "    <tr>\n",
              "      <th>9129</th>\n",
              "      <td>146662</td>\n",
              "      <td>Dragons: Gift of the Night Fury (2011)</td>\n",
              "      <td>Adventure|Animation|Comedy</td>\n",
              "      <td>5.0</td>\n",
              "    </tr>\n",
              "    <tr>\n",
              "      <th>8074</th>\n",
              "      <td>99636</td>\n",
              "      <td>English Vinglish (2012)</td>\n",
              "      <td>Comedy|Drama</td>\n",
              "      <td>5.0</td>\n",
              "    </tr>\n",
              "    <tr>\n",
              "      <th>5785</th>\n",
              "      <td>31522</td>\n",
              "      <td>Marriage of Maria Braun, The (Ehe der Maria Br...</td>\n",
              "      <td>Drama</td>\n",
              "      <td>5.0</td>\n",
              "    </tr>\n",
              "    <tr>\n",
              "      <th>9131</th>\n",
              "      <td>146684</td>\n",
              "      <td>Cosmic Scrat-tastrophe (2015)</td>\n",
              "      <td>Animation|Children|Comedy</td>\n",
              "      <td>5.0</td>\n",
              "    </tr>\n",
              "  </tbody>\n",
              "</table>\n",
              "</div>"
            ],
            "text/plain": [
              "      filmeId  ... nota\n",
              "7656    88448  ...  5.0\n",
              "8107   100556  ...  5.0\n",
              "9083   143031  ...  5.0\n",
              "9094   143511  ...  5.0\n",
              "9096   143559  ...  5.0\n",
              "4251     6201  ...  5.0\n",
              "8154   102217  ...  5.0\n",
              "8148   102084  ...  5.0\n",
              "4246     6192  ...  5.0\n",
              "9122   145994  ...  5.0\n",
              "8115   100906  ...  5.0\n",
              "9129   146662  ...  5.0\n",
              "8074    99636  ...  5.0\n",
              "5785    31522  ...  5.0\n",
              "9131   146684  ...  5.0\n",
              "\n",
              "[15 rows x 4 columns]"
            ]
          },
          "metadata": {
            "tags": []
          },
          "execution_count": 304
        }
      ]
    },
    {
      "cell_type": "markdown",
      "metadata": {
        "id": "D4Yw8FhlhDT1",
        "colab_type": "text"
      },
      "source": [
        "Fizemos um tanto de análise e manipulação de dados interessante, não é?\n",
        "\n",
        "Mas diz a verdade, você está sentindo falta daquele gráfico que todo cientista de dados adora =D, então bora plotar nosso primeiro gráfico!\n",
        "\n",
        "O pandas facilita muito o plot de alguns gráficos simples, apenas selecionamos a informação que gostaríamos de visualizar e chamamos o método ```.plot()```"
      ]
    },
    {
      "cell_type": "code",
      "metadata": {
        "id": "usWDMMoUiG-l",
        "colab_type": "code",
        "outputId": "23059270-f9f4-4e0b-cfb8-77f4ed55bdfb",
        "colab": {
          "base_uri": "https://localhost:8080/",
          "height": 284
        }
      },
      "source": [
        "avaliacoes.query(\"filmeId == 1\")[\"nota\"].plot()"
      ],
      "execution_count": 0,
      "outputs": [
        {
          "output_type": "execute_result",
          "data": {
            "text/plain": [
              "<matplotlib.axes._subplots.AxesSubplot at 0x7f5d176f03c8>"
            ]
          },
          "metadata": {
            "tags": []
          },
          "execution_count": 305
        },
        {
          "output_type": "display_data",
          "data": {
            "image/png": "[encoded data removed]",
            "text/plain": [
              "<Figure size 432x288 with 1 Axes>"
            ]
          },
          "metadata": {
            "tags": []
          }
        }
      ]
    },
    {
      "cell_type": "markdown",
      "metadata": {
        "id": "AazOm8Xeipmf",
        "colab_type": "text"
      },
      "source": [
        "Por padrão o método plotou um gráfico de linhas, o que não é adequado para os dados que estamos analisando.\n",
        "\n",
        "Precisamos mudar o tipo de gráfico para realizar uma análise mais adequada, para fazer isso apenas alteramos o parâmetro **kind** do método ```.plot```. Vamos plotar um [histograma](https://pt.wikipedia.org/wiki/Histograma) rodando a célula a seguir."
      ]
    },
    {
      "cell_type": "code",
      "metadata": {
        "id": "W2s2pBHck1Zt",
        "colab_type": "code",
        "outputId": "3346f6b4-62a2-4aee-eff3-aba0a3e666d2",
        "colab": {
          "base_uri": "https://localhost:8080/",
          "height": 284
        }
      },
      "source": [
        "avaliacoes.query(\"filmeId == 1\")[\"nota\"].plot(kind='hist')"
      ],
      "execution_count": 0,
      "outputs": [
        {
          "output_type": "execute_result",
          "data": {
            "text/plain": [
              "<matplotlib.axes._subplots.AxesSubplot at 0x7f5d178e3f60>"
            ]
          },
          "metadata": {
            "tags": []
          },
          "execution_count": 306
        },
        {
          "output_type": "display_data",
          "data": {
            "image/png": "[encoded data removed]",
            "text/plain": [
              "<Figure size 432x288 with 1 Axes>"
            ]
          },
          "metadata": {
            "tags": []
          }
        }
      ]
    },
    {
      "cell_type": "markdown",
      "metadata": {
        "id": "oYEI1fBOlEdk",
        "colab_type": "text"
      },
      "source": [
        "Legal, agora temos uma visualização muito mais agradavel de analisar. Compare com o gráfico de linhas, qual você acha melhor para análise? \n",
        "\n",
        "P.S: Deixar de usar o gráfico de linhas, não significa que sejá uma visualização ruim. Apenas quer dizer que nossos dados não tem características ideias para serem visualizados como um *line plot*, agora pense em uma [série temporal](https://pt.wikipedia.org/wiki/S%C3%A9rie_temporal). **Você acha que o gráfico de linhas ainda seria uma má ideia?**\n",
        "\n",
        "Antes de analisar o histograms de outros filmes, quero colocar um título na imagem. Vamos ver como podemos fazer isso!\n"
      ]
    },
    {
      "cell_type": "code",
      "metadata": {
        "id": "C8KHmAMbmPJA",
        "colab_type": "code",
        "outputId": "3100f3f4-770b-445d-f168-73d30a0bf6d0",
        "colab": {
          "base_uri": "https://localhost:8080/",
          "height": 300
        }
      },
      "source": [
        "avaliacoes.query(\"filmeId == 1\")[\"nota\"].plot(kind='hist',\n",
        "                                              title=\"Avaliações do filme Toy Story\")"
      ],
      "execution_count": 0,
      "outputs": [
        {
          "output_type": "execute_result",
          "data": {
            "text/plain": [
              "<matplotlib.axes._subplots.AxesSubplot at 0x7f5d179a30b8>"
            ]
          },
          "metadata": {
            "tags": []
          },
          "execution_count": 307
        },
        {
          "output_type": "display_data",
          "data": {
            "image/png": "[encoded data removed]",
            "text/plain": [
              "<Figure size 432x288 with 1 Axes>"
            ]
          },
          "metadata": {
            "tags": []
          }
        }
      ]
    },
    {
      "cell_type": "markdown",
      "metadata": {
        "id": "yY9xg7-KnFpb",
        "colab_type": "text"
      },
      "source": [
        "Claro que python tem outras ferramentas muito poderosas para manipular gráficos, uma delas é o [matplotlib](https://matplotlib.org/).\n",
        "\n",
        "Que tal experimentar um pouquinho esta poderosa ferramenta? \n",
        "\n",
        "Vamos importar a lib e adicionar título no gráfico usando o matplotlib, veja como fica na célula a seguir."
      ]
    },
    {
      "cell_type": "code",
      "metadata": {
        "id": "kSJBUpCmamqK",
        "colab_type": "code",
        "outputId": "ee6f91f3-f70d-4dc3-8b2b-e4482cddca53",
        "colab": {
          "base_uri": "https://localhost:8080/",
          "height": 281
        }
      },
      "source": [
        "import matplotlib.pyplot as plt\n",
        "\n",
        "avaliacoes.query(\"filmeId == 1\")[\"nota\"].plot(kind='hist')\n",
        "plt.title(\"Avaliações do filme Toy Story\")\n",
        "plt.show()"
      ],
      "execution_count": 0,
      "outputs": [
        {
          "output_type": "display_data",
          "data": {
            "image/png": "[encoded data removed]",
            "text/plain": [
              "<Figure size 432x288 with 1 Axes>"
            ]
          },
          "metadata": {
            "tags": []
          }
        }
      ]
    },
    {
      "cell_type": "markdown",
      "metadata": {
        "id": "pagvE8ntpfzv",
        "colab_type": "text"
      },
      "source": [
        "Agora que aprendemos a criar um histograma e manipular os gráficos, vamos plotar informações de outros filmes e realizar uma análise desses gráficos?\n",
        "\n",
        "Vamos plotar o histograma do filme Jumanji e da animação Liga da justiça: Doom."
      ]
    },
    {
      "cell_type": "code",
      "metadata": {
        "id": "vEJ5uiDpdKzC",
        "colab_type": "code",
        "outputId": "91d0a3a8-1f62-49c5-c5cd-8b6263de4ac3",
        "colab": {
          "base_uri": "https://localhost:8080/",
          "height": 300
        }
      },
      "source": [
        "avaliacoes.query(\"filmeId == 2\")[\"nota\"].plot(kind='hist',\n",
        "                                              title=\"Avaliações do filme Jumanji\")"
      ],
      "execution_count": 0,
      "outputs": [
        {
          "output_type": "execute_result",
          "data": {
            "text/plain": [
              "<matplotlib.axes._subplots.AxesSubplot at 0x7f5d17d1be10>"
            ]
          },
          "metadata": {
            "tags": []
          },
          "execution_count": 309
        },
        {
          "output_type": "display_data",
          "data": {
            "image/png": "[encoded data removed]",
            "text/plain": [
              "<Figure size 432x288 with 1 Axes>"
            ]
          },
          "metadata": {
            "tags": []
          }
        }
      ]
    },
    {
      "cell_type": "code",
      "metadata": {
        "id": "3qI60nGXdt3W",
        "colab_type": "code",
        "outputId": "f168dd6d-f49a-4c67-ae2c-fb93b44232e2",
        "colab": {
          "base_uri": "https://localhost:8080/",
          "height": 300
        }
      },
      "source": [
        "avaliacoes.query(\"filmeId == 102084\")[\"nota\"].plot(kind='hist',\n",
        "                                                   title=\"Avaliações do filme Justice League: Doom\")"
      ],
      "execution_count": 0,
      "outputs": [
        {
          "output_type": "execute_result",
          "data": {
            "text/plain": [
              "<matplotlib.axes._subplots.AxesSubplot at 0x7f5d176dd518>"
            ]
          },
          "metadata": {
            "tags": []
          },
          "execution_count": 310
        },
        {
          "output_type": "display_data",
          "data": {
            "image/png": "[encoded data removed]",
            "text/plain": [
              "<Figure size 432x288 with 1 Axes>"
            ]
          },
          "metadata": {
            "tags": []
          }
        }
      ]
    },
    {
      "cell_type": "markdown",
      "metadata": {
        "id": "wQ1VGLaFqI7z",
        "colab_type": "text"
      },
      "source": [
        "Agora que temos os gráficos, chegou a hora de analisar.\n",
        "\n",
        "A primeira coisa que preciso saber é o que cada eixo do meu gráfico significa. Então, eixo **x** mostra a nota, enquanto eixo **y** a frequência das notas (quantas vezes determinada nota foi dada). \n",
        "\n",
        "Entendido nosso gráfico, vamos contextualizar o cenário que estamos analisando:\n",
        "\n",
        " - Temos 3 filmes, dois muito populares (Toy story e Jumanji) e outro que nenhuma pessoa presente no momento da aula conhecia (animação da liga da justiça). O ponto que chamou a atenção, foi que a animação tinha média de nota maior que dois filmes, aparentemente mais popular, Jumaji e Toy Story. **Será que a animação é um filme tão bom assim?**\n",
        "\n",
        "\n",
        "Dado esse cenário a primeira coisa que me chama a atenção é a animação da liga da justiça ter média de nota igual a 5. Ao analisar o histograma do respectivo filme, verificamos que ele só teve uma avaliação igual a 5, logo, fica evidente que a **quantidade de votos é um aspecto importante na avaliação das médias**. Com apenas uma avaliação, não conseguimos garantir que o filme é realmente bom, tornando a avaliação muito \"volátil\". Imagina que Liga da Justiça receba mais uma avaliação, com nota 0, assim a média seria 2.5. Apenas com mais essa avaliação o filme passaria a ser considerada um \"pior\" que Jumanji e Toy Story.\n",
        "\n",
        "Outro ponto interessante é comparar o histograma de Toy Story e Jumanji, ambos tem médias \"relativamente próximas\". Mas repare que a distribuição de notas são diferentes, Toy Story recebe mais notas 5 e 4 que qualquer outra nota, enquanto Jumanji recebe mais notas 4 e 3, assim concluímos que a **distribuição das notas também é um fator importante na avaliação das médias**.(Se ficar alguma dúvida sobre esse tema reveja o exemplo que o instrutor apresenta no final na aula) \n",
        "\n",
        "\n",
        "Com isso nós fechamos a nossa primeira aula do **#quarentenadados**, viu quanta coisa aprendemos? Que tal colocar isso em prática?\n",
        "\n",
        "\n",
        "**Crie seu próprio notebook, reproduza nossa aula e resolva os desafios que deixamos para vocês**.\n",
        "\n",
        "\n",
        "Até a próxima aula!\n",
        "\n",
        "\n",
        "\n",
        "\n",
        "\n",
        "\n"
      ]
    },
    {
      "cell_type": "markdown",
      "metadata": {
        "id": "3e8LMGJAaiXJ",
        "colab_type": "text"
      },
      "source": [
        "## Desafio 2 do [Guilherme Silveira](https://twitter.com/guilhermecaelum)\n",
        "\n",
        "Mudar o nome da coluna nota do dataframe **filmes_com_media** para nota_média após o join."
      ]
    },
    {
      "cell_type": "code",
      "metadata": {
        "id": "yscIj9sKUn_3",
        "colab_type": "code",
        "colab": {}
      },
      "source": [
        "filmes_com_media.columns = ['filmeId', 'titulo', 'generos', 'nota_media']"
      ],
      "execution_count": 0,
      "outputs": []
    },
    {
      "cell_type": "markdown",
      "metadata": {
        "id": "iJ0nFiyXZu8M",
        "colab_type": "text"
      },
      "source": [
        "## Desafio 1 do [Paulo Silveira](https://twitter.com/paulo_caelum)\n",
        "\n",
        "O Paulo fez uma análise rápida e disse que tem 18 filmes sem avaliações, será que ele acertou?\n",
        "\n",
        "Determine quantos filmes não tem avaliações e quais são esses filmes.\n"
      ]
    },
    {
      "cell_type": "code",
      "metadata": {
        "id": "pdWEQgjnUYeM",
        "colab_type": "code",
        "outputId": "b54172bf-8116-42bd-9086-42281756a67a",
        "colab": {
          "base_uri": "https://localhost:8080/",
          "height": 36
        }
      },
      "source": [
        "#filmes_com_media.sort_values(\"nota_media\").tail(20)\n",
        "filmes_com_media_nula = filmes_com_media.nota_media.isnull() #o comando is null muda os valores para True se forem nulos\n",
        "print(\"Contagem de filmes com a média de avaliação nula: \",end=\"\")\n",
        "filmes_com_media_nula.sum()"
      ],
      "execution_count": 0,
      "outputs": [
        {
          "output_type": "stream",
          "text": [
            "Contagem de filmes com a média de avaliação nula: "
          ],
          "name": "stdout"
        },
        {
          "output_type": "execute_result",
          "data": {
            "text/plain": [
              "18"
            ]
          },
          "metadata": {
            "tags": []
          },
          "execution_count": 312
        }
      ]
    },
    {
      "cell_type": "markdown",
      "metadata": {
        "id": "cXqu2wt0a2l6",
        "colab_type": "text"
      },
      "source": [
        "## Desafio 3 do [Guilherme Silveira](https://twitter.com/guilhermecaelum)\n",
        "\n",
        "Colocar o número de avaliações por filme, isto é, não só a média mas o TOTAL de votos por filme."
      ]
    },
    {
      "cell_type": "code",
      "metadata": {
        "id": "5Exf_MIBXifb",
        "colab_type": "code",
        "outputId": "ac0218fd-a501-4f05-d1ef-f4def7fdd822",
        "colab": {
          "base_uri": "https://localhost:8080/",
          "height": 206
        }
      },
      "source": [
        "filmes_com_media.head()\n",
        "#avaliacoes.groupby(\"filmeId\")[\"nota\"].mean()\n",
        "avaliacoes.head()\n",
        "#print(avaliacoes.loc[avaliacoes['filmeId'] == 4])"
      ],
      "execution_count": 0,
      "outputs": [
        {
          "output_type": "execute_result",
          "data": {
            "text/html": [
              "<div>\n",
              "<style scoped>\n",
              "    .dataframe tbody tr th:only-of-type {\n",
              "        vertical-align: middle;\n",
              "    }\n",
              "\n",
              "    .dataframe tbody tr th {\n",
              "        vertical-align: top;\n",
              "    }\n",
              "\n",
              "    .dataframe thead th {\n",
              "        text-align: right;\n",
              "    }\n",
              "</style>\n",
              "<table border=\"1\" class=\"dataframe\">\n",
              "  <thead>\n",
              "    <tr style=\"text-align: right;\">\n",
              "      <th></th>\n",
              "      <th>usuarioId</th>\n",
              "      <th>filmeId</th>\n",
              "      <th>nota</th>\n",
              "      <th>momento</th>\n",
              "    </tr>\n",
              "  </thead>\n",
              "  <tbody>\n",
              "    <tr>\n",
              "      <th>0</th>\n",
              "      <td>1</td>\n",
              "      <td>1</td>\n",
              "      <td>4.0</td>\n",
              "      <td>964982703</td>\n",
              "    </tr>\n",
              "    <tr>\n",
              "      <th>1</th>\n",
              "      <td>1</td>\n",
              "      <td>3</td>\n",
              "      <td>4.0</td>\n",
              "      <td>964981247</td>\n",
              "    </tr>\n",
              "    <tr>\n",
              "      <th>2</th>\n",
              "      <td>1</td>\n",
              "      <td>6</td>\n",
              "      <td>4.0</td>\n",
              "      <td>964982224</td>\n",
              "    </tr>\n",
              "    <tr>\n",
              "      <th>3</th>\n",
              "      <td>1</td>\n",
              "      <td>47</td>\n",
              "      <td>5.0</td>\n",
              "      <td>964983815</td>\n",
              "    </tr>\n",
              "    <tr>\n",
              "      <th>4</th>\n",
              "      <td>1</td>\n",
              "      <td>50</td>\n",
              "      <td>5.0</td>\n",
              "      <td>964982931</td>\n",
              "    </tr>\n",
              "  </tbody>\n",
              "</table>\n",
              "</div>"
            ],
            "text/plain": [
              "   usuarioId  filmeId  nota    momento\n",
              "0          1        1   4.0  964982703\n",
              "1          1        3   4.0  964981247\n",
              "2          1        6   4.0  964982224\n",
              "3          1       47   5.0  964983815\n",
              "4          1       50   5.0  964982931"
            ]
          },
          "metadata": {
            "tags": []
          },
          "execution_count": 313
        }
      ]
    },
    {
      "cell_type": "markdown",
      "metadata": {
        "id": "NaY4puVDb9Cz",
        "colab_type": "text"
      },
      "source": [
        "###Contar ocorrências\n",
        "Abaixo contando as ocorrências dos votos para cada filme em formato de Series são convertidas para dataframe.\n",
        "Quando transformadas em dataframe deve ser mais fácil fazer o join\n",
        "\n",
        "###**_Observações_**\n",
        "\n",
        "ao filtrar utilizando pd.value_counts, a Serie vinha automaticamente com o nome da coluna utilizada.\n",
        "Foi necessário setar o nome como um novo pois o nome já existente estava causando conflito ao utilizar o método Joi\n",
        "\n"
      ]
    },
    {
      "cell_type": "code",
      "metadata": {
        "id": "zheDVIBDalM8",
        "colab_type": "code",
        "outputId": "871447b8-e5fd-42b4-ed90-dcd530adcd66",
        "colab": {
          "base_uri": "https://localhost:8080/",
          "height": 129
        }
      },
      "source": [
        "avaliacoes_por_filme = pd.value_counts(avaliacoes.filmeId)\n",
        "avaliacoes_por_filme.name=\"num_avaliações\"\n",
        "avaliacoes_por_filme.head()"
      ],
      "execution_count": 0,
      "outputs": [
        {
          "output_type": "execute_result",
          "data": {
            "text/plain": [
              "356     329\n",
              "318     317\n",
              "296     307\n",
              "593     279\n",
              "2571    278\n",
              "Name: num_avaliações, dtype: int64"
            ]
          },
          "metadata": {
            "tags": []
          },
          "execution_count": 314
        }
      ]
    },
    {
      "cell_type": "markdown",
      "metadata": {
        "id": "HB2-BBNyBjAT",
        "colab_type": "text"
      },
      "source": [
        "###Joining results\n",
        "\n",
        "Os resultados estão sendo juntados em um mesmo dataframe\n",
        "\n",
        "Após isso estão sendo verificados os tipos dos dados"
      ]
    },
    {
      "cell_type": "code",
      "metadata": {
        "id": "9fwZYCiXcZq4",
        "colab_type": "code",
        "outputId": "b36afaba-209a-4fca-ebfd-370dc01ac37e",
        "colab": {
          "base_uri": "https://localhost:8080/",
          "height": 206
        }
      },
      "source": [
        "filmes_completo = filmes_com_media.join(avaliacoes_por_filme,on=\"filmeId\")\n",
        "filmes_completo.head()"
      ],
      "execution_count": 0,
      "outputs": [
        {
          "output_type": "execute_result",
          "data": {
            "text/html": [
              "<div>\n",
              "<style scoped>\n",
              "    .dataframe tbody tr th:only-of-type {\n",
              "        vertical-align: middle;\n",
              "    }\n",
              "\n",
              "    .dataframe tbody tr th {\n",
              "        vertical-align: top;\n",
              "    }\n",
              "\n",
              "    .dataframe thead th {\n",
              "        text-align: right;\n",
              "    }\n",
              "</style>\n",
              "<table border=\"1\" class=\"dataframe\">\n",
              "  <thead>\n",
              "    <tr style=\"text-align: right;\">\n",
              "      <th></th>\n",
              "      <th>filmeId</th>\n",
              "      <th>titulo</th>\n",
              "      <th>generos</th>\n",
              "      <th>nota_media</th>\n",
              "      <th>num_avaliações</th>\n",
              "    </tr>\n",
              "  </thead>\n",
              "  <tbody>\n",
              "    <tr>\n",
              "      <th>0</th>\n",
              "      <td>1</td>\n",
              "      <td>Toy Story (1995)</td>\n",
              "      <td>Adventure|Animation|Children|Comedy|Fantasy</td>\n",
              "      <td>3.920930</td>\n",
              "      <td>215.0</td>\n",
              "    </tr>\n",
              "    <tr>\n",
              "      <th>1</th>\n",
              "      <td>2</td>\n",
              "      <td>Jumanji (1995)</td>\n",
              "      <td>Adventure|Children|Fantasy</td>\n",
              "      <td>3.431818</td>\n",
              "      <td>110.0</td>\n",
              "    </tr>\n",
              "    <tr>\n",
              "      <th>2</th>\n",
              "      <td>3</td>\n",
              "      <td>Grumpier Old Men (1995)</td>\n",
              "      <td>Comedy|Romance</td>\n",
              "      <td>3.259615</td>\n",
              "      <td>52.0</td>\n",
              "    </tr>\n",
              "    <tr>\n",
              "      <th>3</th>\n",
              "      <td>4</td>\n",
              "      <td>Waiting to Exhale (1995)</td>\n",
              "      <td>Comedy|Drama|Romance</td>\n",
              "      <td>2.357143</td>\n",
              "      <td>7.0</td>\n",
              "    </tr>\n",
              "    <tr>\n",
              "      <th>4</th>\n",
              "      <td>5</td>\n",
              "      <td>Father of the Bride Part II (1995)</td>\n",
              "      <td>Comedy</td>\n",
              "      <td>3.071429</td>\n",
              "      <td>49.0</td>\n",
              "    </tr>\n",
              "  </tbody>\n",
              "</table>\n",
              "</div>"
            ],
            "text/plain": [
              "   filmeId                              titulo  ... nota_media  num_avaliações\n",
              "0        1                    Toy Story (1995)  ...   3.920930           215.0\n",
              "1        2                      Jumanji (1995)  ...   3.431818           110.0\n",
              "2        3             Grumpier Old Men (1995)  ...   3.259615            52.0\n",
              "3        4            Waiting to Exhale (1995)  ...   2.357143             7.0\n",
              "4        5  Father of the Bride Part II (1995)  ...   3.071429            49.0\n",
              "\n",
              "[5 rows x 5 columns]"
            ]
          },
          "metadata": {
            "tags": []
          },
          "execution_count": 315
        }
      ]
    },
    {
      "cell_type": "markdown",
      "metadata": {
        "id": "fZ5F6qwVeVWt",
        "colab_type": "text"
      },
      "source": [
        "## Desafio 4 do [Thiago Gonçalves](https://twitter.com/tgcsantos)\n",
        "\n",
        "\n",
        "Arredondar as médias (coluna de nota média) para duas casas decimais."
      ]
    },
    {
      "cell_type": "code",
      "metadata": {
        "id": "m1SrQwCXJzJK",
        "colab_type": "code",
        "outputId": "371b5aee-215b-4dbb-b1c3-8174973d6280",
        "colab": {
          "base_uri": "https://localhost:8080/",
          "height": 206
        }
      },
      "source": [
        "filmes_completo = filmes_completo.round(decimals=2)\n",
        "filmes_completo.head()"
      ],
      "execution_count": 0,
      "outputs": [
        {
          "output_type": "execute_result",
          "data": {
            "text/html": [
              "<div>\n",
              "<style scoped>\n",
              "    .dataframe tbody tr th:only-of-type {\n",
              "        vertical-align: middle;\n",
              "    }\n",
              "\n",
              "    .dataframe tbody tr th {\n",
              "        vertical-align: top;\n",
              "    }\n",
              "\n",
              "    .dataframe thead th {\n",
              "        text-align: right;\n",
              "    }\n",
              "</style>\n",
              "<table border=\"1\" class=\"dataframe\">\n",
              "  <thead>\n",
              "    <tr style=\"text-align: right;\">\n",
              "      <th></th>\n",
              "      <th>filmeId</th>\n",
              "      <th>titulo</th>\n",
              "      <th>generos</th>\n",
              "      <th>nota_media</th>\n",
              "      <th>num_avaliações</th>\n",
              "    </tr>\n",
              "  </thead>\n",
              "  <tbody>\n",
              "    <tr>\n",
              "      <th>0</th>\n",
              "      <td>1</td>\n",
              "      <td>Toy Story (1995)</td>\n",
              "      <td>Adventure|Animation|Children|Comedy|Fantasy</td>\n",
              "      <td>3.92</td>\n",
              "      <td>215.0</td>\n",
              "    </tr>\n",
              "    <tr>\n",
              "      <th>1</th>\n",
              "      <td>2</td>\n",
              "      <td>Jumanji (1995)</td>\n",
              "      <td>Adventure|Children|Fantasy</td>\n",
              "      <td>3.43</td>\n",
              "      <td>110.0</td>\n",
              "    </tr>\n",
              "    <tr>\n",
              "      <th>2</th>\n",
              "      <td>3</td>\n",
              "      <td>Grumpier Old Men (1995)</td>\n",
              "      <td>Comedy|Romance</td>\n",
              "      <td>3.26</td>\n",
              "      <td>52.0</td>\n",
              "    </tr>\n",
              "    <tr>\n",
              "      <th>3</th>\n",
              "      <td>4</td>\n",
              "      <td>Waiting to Exhale (1995)</td>\n",
              "      <td>Comedy|Drama|Romance</td>\n",
              "      <td>2.36</td>\n",
              "      <td>7.0</td>\n",
              "    </tr>\n",
              "    <tr>\n",
              "      <th>4</th>\n",
              "      <td>5</td>\n",
              "      <td>Father of the Bride Part II (1995)</td>\n",
              "      <td>Comedy</td>\n",
              "      <td>3.07</td>\n",
              "      <td>49.0</td>\n",
              "    </tr>\n",
              "  </tbody>\n",
              "</table>\n",
              "</div>"
            ],
            "text/plain": [
              "   filmeId                              titulo  ... nota_media  num_avaliações\n",
              "0        1                    Toy Story (1995)  ...       3.92           215.0\n",
              "1        2                      Jumanji (1995)  ...       3.43           110.0\n",
              "2        3             Grumpier Old Men (1995)  ...       3.26            52.0\n",
              "3        4            Waiting to Exhale (1995)  ...       2.36             7.0\n",
              "4        5  Father of the Bride Part II (1995)  ...       3.07            49.0\n",
              "\n",
              "[5 rows x 5 columns]"
            ]
          },
          "metadata": {
            "tags": []
          },
          "execution_count": 316
        }
      ]
    },
    {
      "cell_type": "markdown",
      "metadata": {
        "id": "mYzG73cSeigN",
        "colab_type": "text"
      },
      "source": [
        "## Desafio 5 do [Allan Spadini](https://twitter.com/allanspadini)\n",
        "\n",
        "Descobrir os generos dos filmes (quais são eles, únicos). (esse aqui o bicho pega)"
      ]
    },
    {
      "cell_type": "code",
      "metadata": {
        "colab_type": "code",
        "outputId": "60f7262e-d1c4-491a-9ca9-3109eb79e9bc",
        "id": "GJSLpAqDKrbB",
        "colab": {
          "base_uri": "https://localhost:8080/",
          "height": 129
        }
      },
      "source": [
        "filmes_completo.head()\n",
        "\n",
        "generos = filmes_completo['generos'].str.get_dummies(sep='|').sum().sort_values(ascending=False)\n",
        "print(\"Os gêneros dos filmes são:\")\n",
        "print(generos.index)"
      ],
      "execution_count": 0,
      "outputs": [
        {
          "output_type": "stream",
          "text": [
            "Os gêneros dos filmes são:\n",
            "Index(['Drama', 'Comedy', 'Thriller', 'Action', 'Romance', 'Adventure',\n",
            "       'Crime', 'Sci-Fi', 'Horror', 'Fantasy', 'Children', 'Animation',\n",
            "       'Mystery', 'Documentary', 'War', 'Musical', 'Western', 'IMAX',\n",
            "       'Film-Noir', '(no genres listed)'],\n",
            "      dtype='object')\n"
          ],
          "name": "stdout"
        }
      ]
    },
    {
      "cell_type": "markdown",
      "metadata": {
        "id": "enM3lF2textZ",
        "colab_type": "text"
      },
      "source": [
        "## Desafio 6 da [Thais André](https://twitter.com/thais_tandre)\n",
        "\n",
        "Contar o número de aparições de cada genero."
      ]
    },
    {
      "cell_type": "code",
      "metadata": {
        "id": "ct7g1c1glnRA",
        "colab_type": "code",
        "outputId": "f188c2c7-3a7c-4a2d-8f56-f63bc622fa20",
        "colab": {
          "base_uri": "https://localhost:8080/",
          "height": 428
        }
      },
      "source": [
        "print(\"O número de aparições de cada gênero é o seguinte:\")\n",
        "generos"
      ],
      "execution_count": 0,
      "outputs": [
        {
          "output_type": "stream",
          "text": [
            "O número de aparições de cada gênero é o seguinte:\n"
          ],
          "name": "stdout"
        },
        {
          "output_type": "execute_result",
          "data": {
            "text/plain": [
              "Drama                 4361\n",
              "Comedy                3756\n",
              "Thriller              1894\n",
              "Action                1828\n",
              "Romance               1596\n",
              "Adventure             1263\n",
              "Crime                 1199\n",
              "Sci-Fi                 980\n",
              "Horror                 978\n",
              "Fantasy                779\n",
              "Children               664\n",
              "Animation              611\n",
              "Mystery                573\n",
              "Documentary            440\n",
              "War                    382\n",
              "Musical                334\n",
              "Western                167\n",
              "IMAX                   158\n",
              "Film-Noir               87\n",
              "(no genres listed)      34\n",
              "dtype: int64"
            ]
          },
          "metadata": {
            "tags": []
          },
          "execution_count": 318
        }
      ]
    },
    {
      "cell_type": "markdown",
      "metadata": {
        "id": "SVVAZGGdfA_s",
        "colab_type": "text"
      },
      "source": [
        "## Desafio 7 do [Guilherme Silveira](https://twitter.com/guilhermecaelum)\n",
        "\n",
        "Plotar o gráfico de aparições de cada genero. Pode ser um gráfico de tipo igual a barra."
      ]
    },
    {
      "cell_type": "code",
      "metadata": {
        "id": "4Ji1PWg0mMVJ",
        "colab_type": "code",
        "outputId": "ef62bd44-140e-4369-9454-937e2a26f8f6",
        "colab": {
          "base_uri": "https://localhost:8080/",
          "height": 554
        }
      },
      "source": [
        "import seaborn as sns\n",
        "sns.set_style(\"whitegrid\")\n",
        "plt.figure(figsize=(16,8))\n",
        "graph = sns.barplot(x=generos.index,y=generos.values,palette=sns.color_palette(\"Blues_r\",n_colors=len(generos.index)+5))\n",
        "graph.set_xticklabels(graph.get_xticklabels(), rotation=60, horizontalalignment='right')\n",
        "plt.show()"
      ],
      "execution_count": 0,
      "outputs": [
        {
          "output_type": "display_data",
          "data": {
            "image/png": "[encoded data removed]",
            "text/plain": [
              "<Figure size 1152x576 with 1 Axes>"
            ]
          },
          "metadata": {
            "tags": []
          }
        }
      ]
    },
    {
      "cell_type": "markdown",
      "metadata": {
        "id": "5uIsDpkAz8oa",
        "colab_type": "text"
      },
      "source": [
        "#Não esqueça de compartilhar a solução dos seus desafios com nossos instrutores, seja no twitter ou linkedin. Boa sorte!"
      ]
    },
    {
      "cell_type": "code",
      "metadata": {
        "id": "VzeE2YYNVBxx",
        "colab_type": "code",
        "colab": {}
      },
      "source": [
        ""
      ],
      "execution_count": 0,
      "outputs": []
    }
  ]
}